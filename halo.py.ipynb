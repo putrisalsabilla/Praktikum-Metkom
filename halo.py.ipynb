{
 "cells": [
  {
   "cell_type": "code",
   "execution_count": 1,
   "id": "usual-simon",
   "metadata": {},
   "outputs": [
    {
     "name": "stdout",
     "output_type": "stream",
     "text": [
      "Halo!! semoga saya bisa ikut prak metkom dengan baik\n"
     ]
    }
   ],
   "source": [
    "#/==========================================/\n",
    "#/                                          /\n",
    "#/                   halo.py                /\n",
    "#/     by putrisalsabilla@mail.ugm.ac.id    /\n",
    "#/                                          /\n",
    "#/==========================================/\n",
    "print(\"Halo!! semoga saya bisa ikut prak metkom dengan baik\")"
   ]
  },
  {
   "cell_type": "code",
   "execution_count": null,
   "id": "multiple-protection",
   "metadata": {},
   "outputs": [],
   "source": []
  },
  {
   "cell_type": "code",
   "execution_count": null,
   "id": "impossible-default",
   "metadata": {},
   "outputs": [],
   "source": []
  }
 ],
 "metadata": {
  "kernelspec": {
   "display_name": "Python 3",
   "language": "python",
   "name": "python3"
  },
  "language_info": {
   "codemirror_mode": {
    "name": "ipython",
    "version": 3
   },
   "file_extension": ".py",
   "mimetype": "text/x-python",
   "name": "python",
   "nbconvert_exporter": "python",
   "pygments_lexer": "ipython3",
   "version": "3.8.5"
  }
 },
 "nbformat": 4,
 "nbformat_minor": 5
}
